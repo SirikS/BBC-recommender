{
 "cells": [
  {
   "cell_type": "code",
   "execution_count": 2,
   "metadata": {
    "collapsed": true,
    "jupyter": {
     "outputs_hidden": true
    }
   },
   "outputs": [],
   "source": [
    "import pandas as pd\n",
    "from bs4 import BeautifulSoup\n",
    "import requests\n",
    "import glob\n",
    "from pathlib import Path"
   ]
  },
  {
   "cell_type": "code",
   "execution_count": 98,
   "metadata": {
    "collapsed": false,
    "jupyter": {
     "outputs_hidden": false
    },
    "pycharm": {
     "name": "#%%\n"
    }
   },
   "outputs": [
    {
     "name": "stdout",
     "output_type": "stream",
     "text": [
      "['29 mins', '25 Feb 2004', 'Available for over a year']\n"
     ]
    }
   ],
   "source": [
    "# test code for individual programs.\n",
    "file =  'data/BBC/BBC/arts/iplayer-episode-b0074q0f-roy-lichtenstein-pop-idol.html'\n",
    "test_soup = BeautifulSoup(open(file, encoding = \"utf8\"), 'html.parser')\n",
    "test_title = test_soup.find('meta', attrs={'property': 'og:title'})\n",
    "length_test = test_soup.find('episode-metadata__text')\n",
    "test = test_soup.findAll('div', attrs={'id': 'orb-modules'})\n",
    "for tag in test:\n",
    "    tdTags = tag.find_all(\"span\", {\"class\": \"episode-metadata__text\"})\n",
    "    list = []\n",
    "    for asdf in tdTags:\n",
    "        list.append(asdf.text)\n",
    "\n",
    "print(list)\n",
    "#print(length_test)\n",
    "#print(test_title['content'])\n"
   ]
  },
  {
   "cell_type": "code",
   "execution_count": null,
   "metadata": {
    "collapsed": false,
    "jupyter": {
     "outputs_hidden": false
    },
    "pycharm": {
     "name": "#%%\n"
    }
   },
   "outputs": [],
   "source": [
    "df = pd.DataFrame(columns=['Title', 'Image', 'Description', 'Genre', 'Duration', 'Date'])\n",
    "\n",
    "entries = Path('data/BBC/BBC/')\n",
    "for entry in entries.iterdir():\n",
    "    files = glob.glob(f'./data/BBC/BBC/{entry.name}/*.html')\n",
    "    Genre = entry.name\n",
    "\n",
    "    for file in files:\n",
    "        soup = BeautifulSoup(open(file, encoding = \"utf8\"), 'html.parser')\n",
    "        test_title = soup.find('meta', attrs={'property': 'og:title'})\n",
    "        test_image = soup.find('meta',  attrs={'property': 'og:image'})\n",
    "        test_description = soup.find('meta',  attrs={'property': 'og:description'})\n",
    "        meta_test = soup.findAll('div', attrs={'id': 'orb-modules'})\n",
    "\n",
    "        if (test_title != None) and (test_image != None) and (test_description != None) and (meta_test != None):\n",
    "        # extract the data from each file\n",
    "        #extract title\n",
    "            Title = test_title['content']\n",
    "        #Extract Image\n",
    "            Image = test_image['content']\n",
    "        #Extract Description\n",
    "            Description = test_description['content']\n",
    "        #Extract info\n",
    "            for tag in meta_test:\n",
    "                tdTags = tag.find_all(\"span\", {\"class\": \"episode-metadata__text\"})\n",
    "                List = []\n",
    "                for items in tdTags:\n",
    "                    List.append(items.text)\n",
    "\n",
    "            df = df.append({'Title': Title, 'Image': Image, 'Description': Description, 'Genre': Genre, 'Duration': List[0], 'Date': List[1]}, ignore_index=True)\n",
    "        else:\n",
    "            pass\n"
   ]
  },
  {
   "cell_type": "code",
   "execution_count": 103,
   "metadata": {
    "collapsed": false,
    "jupyter": {
     "outputs_hidden": false
    },
    "pycharm": {
     "name": "#%%\n"
    }
   },
   "outputs": [
    {
     "data": {
      "text/html": [
       "<div>\n",
       "<style scoped>\n",
       "    .dataframe tbody tr th:only-of-type {\n",
       "        vertical-align: middle;\n",
       "    }\n",
       "\n",
       "    .dataframe tbody tr th {\n",
       "        vertical-align: top;\n",
       "    }\n",
       "\n",
       "    .dataframe thead th {\n",
       "        text-align: right;\n",
       "    }\n",
       "</style>\n",
       "<table border=\"1\" class=\"dataframe\">\n",
       "  <thead>\n",
       "    <tr style=\"text-align: right;\">\n",
       "      <th></th>\n",
       "      <th>Title</th>\n",
       "      <th>Image</th>\n",
       "      <th>Description</th>\n",
       "      <th>Genre</th>\n",
       "      <th>Duration</th>\n",
       "      <th>Date</th>\n",
       "    </tr>\n",
       "  </thead>\n",
       "  <tbody>\n",
       "    <tr>\n",
       "      <th>0</th>\n",
       "      <td>Roy Lichtenstein: Pop Idol</td>\n",
       "      <td>https://ichef.bbci.co.uk/images/ic/1200x675/p0...</td>\n",
       "      <td>Roy Lichtenstein revolutionised art with his c...</td>\n",
       "      <td>arts</td>\n",
       "      <td>29 mins</td>\n",
       "      <td>25 Feb 2004</td>\n",
       "    </tr>\n",
       "    <tr>\n",
       "      <th>1</th>\n",
       "      <td>Civilisation - 13. Heroic Materialism</td>\n",
       "      <td>https://ichef.bbci.co.uk/images/ic/1200x675/p0...</td>\n",
       "      <td>Kenneth Clark considers heroic materialism and...</td>\n",
       "      <td>arts</td>\n",
       "      <td>51 mins</td>\n",
       "      <td>8:15pm 18 May 1969</td>\n",
       "    </tr>\n",
       "    <tr>\n",
       "      <th>2</th>\n",
       "      <td>Mark Lawson Talks To... - Barry Cryer</td>\n",
       "      <td>https://ichef.bbci.co.uk/images/ic/1200x675/p0...</td>\n",
       "      <td>Comedy writer and raconteur Barry Cryer in con...</td>\n",
       "      <td>arts</td>\n",
       "      <td>59 mins</td>\n",
       "      <td>10:50pm 2 Apr 2008</td>\n",
       "    </tr>\n",
       "    <tr>\n",
       "      <th>3</th>\n",
       "      <td>The Birth of British Music - 1. Purcell - The ...</td>\n",
       "      <td>https://ichef.bbci.co.uk/images/ic/1200x675/p0...</td>\n",
       "      <td>The life and music of Henry Purcell, from tave...</td>\n",
       "      <td>arts</td>\n",
       "      <td>59 mins</td>\n",
       "      <td>11 May 2009</td>\n",
       "    </tr>\n",
       "    <tr>\n",
       "      <th>4</th>\n",
       "      <td>Fleetwood Mac: Don't Stop</td>\n",
       "      <td>https://ichef.bbci.co.uk/images/ic/1200x675/p0...</td>\n",
       "      <td>The story of one of the biggest-selling bands ...</td>\n",
       "      <td>arts</td>\n",
       "      <td>59 mins</td>\n",
       "      <td>10:20pm 1 Nov 2009</td>\n",
       "    </tr>\n",
       "    <tr>\n",
       "      <th>...</th>\n",
       "      <td>...</td>\n",
       "      <td>...</td>\n",
       "      <td>...</td>\n",
       "      <td>...</td>\n",
       "      <td>...</td>\n",
       "      <td>...</td>\n",
       "    </tr>\n",
       "    <tr>\n",
       "      <th>3798</th>\n",
       "      <td>Bellator MMA - 2022: Bellator 274: Main Event ...</td>\n",
       "      <td>https://ichef.bbci.co.uk/images/ic/1200x675/p0...</td>\n",
       "      <td>Full coverage of Bellator 274 at the Mohegan S...</td>\n",
       "      <td>sports</td>\n",
       "      <td>333 mins</td>\n",
       "      <td>19 Feb 2022</td>\n",
       "    </tr>\n",
       "    <tr>\n",
       "      <th>3799</th>\n",
       "      <td>Scottish Women's Premier League 2021-22 - Celt...</td>\n",
       "      <td>https://ichef.bbci.co.uk/images/ic/1200x675/p0...</td>\n",
       "      <td>Live coverage as Fran Alonso's Celtic take on ...</td>\n",
       "      <td>sports</td>\n",
       "      <td>135 mins</td>\n",
       "      <td>20 Feb 2022</td>\n",
       "    </tr>\n",
       "    <tr>\n",
       "      <th>3800</th>\n",
       "      <td>Athletics - 2022: Birmingham Indoor Grand Prix</td>\n",
       "      <td>https://ichef.bbci.co.uk/images/ic/1200x675/p0...</td>\n",
       "      <td>Live coverage from Birmingham Indoor Grand Prix.</td>\n",
       "      <td>sports</td>\n",
       "      <td>189 mins</td>\n",
       "      <td>19 Feb 2022</td>\n",
       "    </tr>\n",
       "    <tr>\n",
       "      <th>3801</th>\n",
       "      <td>Match of the Day Wales - 2021/22: Pinatar Cup ...</td>\n",
       "      <td>https://ichef.bbci.co.uk/images/ic/1200x675/p0...</td>\n",
       "      <td>Wales face Republic of Ireland in the third-pl...</td>\n",
       "      <td>sports</td>\n",
       "      <td>121 mins</td>\n",
       "      <td>22 Feb 2022</td>\n",
       "    </tr>\n",
       "    <tr>\n",
       "      <th>3802</th>\n",
       "      <td>Ulster Rugby - United Rugby Championship: Drag...</td>\n",
       "      <td>https://ichef.bbci.co.uk/images/ic/1200x675/p0...</td>\n",
       "      <td>Full match coverage of Dragons v Ulster. Comme...</td>\n",
       "      <td>sports</td>\n",
       "      <td>99 mins</td>\n",
       "      <td>21 Feb 2022</td>\n",
       "    </tr>\n",
       "  </tbody>\n",
       "</table>\n",
       "<p>3803 rows × 6 columns</p>\n",
       "</div>"
      ],
      "text/plain": [
       "                                                  Title  \\\n",
       "0                            Roy Lichtenstein: Pop Idol   \n",
       "1                 Civilisation - 13. Heroic Materialism   \n",
       "2                 Mark Lawson Talks To... - Barry Cryer   \n",
       "3     The Birth of British Music - 1. Purcell - The ...   \n",
       "4                             Fleetwood Mac: Don't Stop   \n",
       "...                                                 ...   \n",
       "3798  Bellator MMA - 2022: Bellator 274: Main Event ...   \n",
       "3799  Scottish Women's Premier League 2021-22 - Celt...   \n",
       "3800     Athletics - 2022: Birmingham Indoor Grand Prix   \n",
       "3801  Match of the Day Wales - 2021/22: Pinatar Cup ...   \n",
       "3802  Ulster Rugby - United Rugby Championship: Drag...   \n",
       "\n",
       "                                                  Image  \\\n",
       "0     https://ichef.bbci.co.uk/images/ic/1200x675/p0...   \n",
       "1     https://ichef.bbci.co.uk/images/ic/1200x675/p0...   \n",
       "2     https://ichef.bbci.co.uk/images/ic/1200x675/p0...   \n",
       "3     https://ichef.bbci.co.uk/images/ic/1200x675/p0...   \n",
       "4     https://ichef.bbci.co.uk/images/ic/1200x675/p0...   \n",
       "...                                                 ...   \n",
       "3798  https://ichef.bbci.co.uk/images/ic/1200x675/p0...   \n",
       "3799  https://ichef.bbci.co.uk/images/ic/1200x675/p0...   \n",
       "3800  https://ichef.bbci.co.uk/images/ic/1200x675/p0...   \n",
       "3801  https://ichef.bbci.co.uk/images/ic/1200x675/p0...   \n",
       "3802  https://ichef.bbci.co.uk/images/ic/1200x675/p0...   \n",
       "\n",
       "                                            Description   Genre  Duration  \\\n",
       "0     Roy Lichtenstein revolutionised art with his c...    arts   29 mins   \n",
       "1     Kenneth Clark considers heroic materialism and...    arts   51 mins   \n",
       "2     Comedy writer and raconteur Barry Cryer in con...    arts   59 mins   \n",
       "3     The life and music of Henry Purcell, from tave...    arts   59 mins   \n",
       "4     The story of one of the biggest-selling bands ...    arts   59 mins   \n",
       "...                                                 ...     ...       ...   \n",
       "3798  Full coverage of Bellator 274 at the Mohegan S...  sports  333 mins   \n",
       "3799  Live coverage as Fran Alonso's Celtic take on ...  sports  135 mins   \n",
       "3800   Live coverage from Birmingham Indoor Grand Prix.  sports  189 mins   \n",
       "3801  Wales face Republic of Ireland in the third-pl...  sports  121 mins   \n",
       "3802  Full match coverage of Dragons v Ulster. Comme...  sports   99 mins   \n",
       "\n",
       "                    Date  \n",
       "0            25 Feb 2004  \n",
       "1     8:15pm 18 May 1969  \n",
       "2     10:50pm 2 Apr 2008  \n",
       "3            11 May 2009  \n",
       "4     10:20pm 1 Nov 2009  \n",
       "...                  ...  \n",
       "3798         19 Feb 2022  \n",
       "3799         20 Feb 2022  \n",
       "3800         19 Feb 2022  \n",
       "3801         22 Feb 2022  \n",
       "3802         21 Feb 2022  \n",
       "\n",
       "[3803 rows x 6 columns]"
      ]
     },
     "execution_count": 103,
     "metadata": {},
     "output_type": "execute_result"
    }
   ],
   "source": [
    "df"
   ]
  },
  {
   "cell_type": "code",
   "execution_count": 104,
   "metadata": {
    "collapsed": false,
    "jupyter": {
     "outputs_hidden": false
    },
    "pycharm": {
     "name": "#%%\n"
    }
   },
   "outputs": [
    {
     "data": {
      "text/plain": [
       "3803"
      ]
     },
     "execution_count": 104,
     "metadata": {},
     "output_type": "execute_result"
    }
   ],
   "source": [
    "len(df)"
   ]
  },
  {
   "cell_type": "code",
   "execution_count": 105,
   "metadata": {
    "collapsed": false,
    "jupyter": {
     "outputs_hidden": false
    },
    "pycharm": {
     "name": "#%%\n"
    }
   },
   "outputs": [
    {
     "data": {
      "text/plain": [
       "Title          0\n",
       "Image          0\n",
       "Description    0\n",
       "Genre          0\n",
       "Duration       0\n",
       "Date           0\n",
       "dtype: int64"
      ]
     },
     "execution_count": 105,
     "metadata": {},
     "output_type": "execute_result"
    }
   ],
   "source": [
    "df.isna().sum()"
   ]
  },
  {
   "cell_type": "code",
   "execution_count": 106,
   "metadata": {
    "collapsed": false,
    "jupyter": {
     "outputs_hidden": false
    },
    "pycharm": {
     "name": "#%%\n"
    }
   },
   "outputs": [],
   "source": [
    "df.to_csv('data/BBC_Dataset.csv', index=False, sep=\";\")"
   ]
  },
  {
   "cell_type": "code",
   "execution_count": null,
   "metadata": {
    "collapsed": false,
    "jupyter": {
     "outputs_hidden": false
    },
    "pycharm": {
     "name": "#%%\n"
    }
   },
   "outputs": [],
   "source": []
  }
 ],
 "metadata": {
  "kernelspec": {
   "display_name": "Python 3 (ipykernel)",
   "language": "python",
   "name": "python3"
  },
  "language_info": {
   "codemirror_mode": {
    "name": "ipython",
    "version": 3
   },
   "file_extension": ".py",
   "mimetype": "text/x-python",
   "name": "python",
   "nbconvert_exporter": "python",
   "pygments_lexer": "ipython3",
   "version": "3.8.8"
  }
 },
 "nbformat": 4,
 "nbformat_minor": 4
}
