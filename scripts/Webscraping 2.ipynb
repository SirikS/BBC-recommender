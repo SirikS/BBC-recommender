{
 "cells": [
  {
   "cell_type": "code",
   "execution_count": 3,
   "outputs": [],
   "source": [
    "import pandas as pd\n",
    "from bs4 import BeautifulSoup\n",
    "import requests\n",
    "import glob\n",
    "from pathlib import Path"
   ],
   "metadata": {
    "collapsed": false,
    "pycharm": {
     "name": "#%%\n"
    }
   }
  },
  {
   "cell_type": "code",
   "execution_count": null,
   "outputs": [],
   "source": [
    "#df = pd.DataFrame(columns=['Title_all', 'Title', 'Season', 'Episode', 'Image', 'Description', 'Genre', 'Duration', 'Date'])\n",
    "#\n",
    "#entries = Path('data2/BBC/')\n",
    "#for entry in entries.iterdir():\n",
    "#    files = glob.glob(f'./data2/BBC/{entry.name}/*.html')\n",
    "#    Genre = entry.name\n",
    "#\n",
    "#    for file in files:\n",
    "#        try:\n",
    "#            with open(file) as fp:\n",
    "#                soup = BeautifulSoup(fp, 'html.parser')\n",
    "#            test_site_name = soup.find('meta', attrs={'property': 'og:site_name'})\n",
    "#            test_title = soup.find('meta', attrs={'property': 'og:title'})\n",
    "#            test_image = soup.find('meta',  attrs={'property': 'og:image'})\n",
    "#            test_description = soup.find('meta',  attrs={'property': 'og:description'})\n",
    "#            meta_test = soup.findAll('div', attrs={'id': 'orb-modules'})\n",
    "#\n",
    "#            if (test_title != None) and (test_image != None) and (test_description != None) and (meta_test != None):\n",
    "#            # extract the data from each file\n",
    "#            #extract title\n",
    "#                Title_all = test_title['content']\n",
    "#            #Extract Image\n",
    "#                Image = test_image['content']\n",
    "#            #Extract Description\n",
    "#                Description = test_description['content']\n",
    "#\n",
    "#                if test_site_name['content'] == 'BBC iPlayer':\n",
    "#                    for tag in meta_test:\n",
    "#                        tdTags = tag.find_all(\"span\", {\"class\": \"episode-metadata__text\"})\n",
    "#                        tdTags2 = tag.find_all(\"span\", {\"class\": \"typo typo--bold play-cta__title typo--buzzard\"})\n",
    "#                        tdTags3 = tag.find_all(\"span\", {\"class\": \"typo typo--skylark play-cta__subtitle\"})\n",
    "#\n",
    "#                        List = []\n",
    "#                        Titles = []\n",
    "#\n",
    "#                        for items in tdTags:\n",
    "#                            List.append(items.text)\n",
    "#                        for i in tdTags2:\n",
    "#                            Titles.append(i.text)\n",
    "#                        for d in tdTags3:\n",
    "#                            Titles.append(d.text)\n",
    "#\n",
    "#                        Title = Titles[0]\n",
    "#                        if tdTags3 ==  []:\n",
    "#                            Season = \"\"\n",
    "#                        else:\n",
    "#                            Season = Titles[1]\n",
    "#\n",
    "#                        Duration = List[0]\n",
    "#                        Date = List[1]\n",
    "#\n",
    "#                elif test_site_name['content'] == 'BBC':\n",
    "#                    for tag in meta_test:\n",
    "#                        tdTags = tag.find_all(\"div\", {\"class\": \"map__intro\"})\n",
    "#                        tdTags2 = tag.find_all(\"a\", {\"class\": \"context__item\"})\n",
    "#                        tdTags3 = tag.find_all(\"h1\", {\"class\": \"no-margin\"})\n",
    "#                        List = []\n",
    "#                        for items in tdTags:\n",
    "#                            List.append(items.text)\n",
    "#                        for i in tdTags2:\n",
    "#                            List.append(i.text)\n",
    "#                        for d in tdTags3:\n",
    "#                            List.append(d.text)\n",
    "#\n",
    "#                    Duration = List[0]\n",
    "#                    Title = List[1]\n",
    "#                    Season = List[2]\n",
    "#                    if len(List) == 4:\n",
    "#                        Episode = List[3]\n",
    "#                    else:\n",
    "#                        Episode = \"\"\n",
    "#                    Date = \"\"\n",
    "\n",
    "\n",
    "\n",
    "#                df = df.append({'Title_all': Title_all, 'Title': Title, 'Season': Season, 'Episode': Episode, 'Image': Image, 'Description': Description, 'Genre': Genre, 'Duration': #Duration, 'Date': Date}, ignore_index=True)\n",
    "#            else:\n",
    "#                pass\n",
    "#        except:\n",
    "#            pass"
   ],
   "metadata": {
    "collapsed": false,
    "pycharm": {
     "name": "#%%\n"
    }
   }
  },
  {
   "cell_type": "code",
   "execution_count": null,
   "outputs": [
    {
     "name": "stderr",
     "output_type": "stream",
     "text": [
      "C:\\Users\\coppe\\AppData\\Local\\Temp\\ipykernel_24044\\2617141462.py:77: FutureWarning: The frame.append method is deprecated and will be removed from pandas in a future version. Use pandas.concat instead.\n",
      "  df = df.append({'Title_all': Title_all, 'Title': Title, 'Season': Season, 'Episode': Episode, 'Image': Image, 'Description': Description, 'Genre': Genre, 'Duration': Duration, 'Date': Date}, ignore_index=True)\n",
      "C:\\Users\\coppe\\AppData\\Local\\Temp\\ipykernel_24044\\2617141462.py:77: FutureWarning: The frame.append method is deprecated and will be removed from pandas in a future version. Use pandas.concat instead.\n",
      "  df = df.append({'Title_all': Title_all, 'Title': Title, 'Season': Season, 'Episode': Episode, 'Image': Image, 'Description': Description, 'Genre': Genre, 'Duration': Duration, 'Date': Date}, ignore_index=True)\n",
      "C:\\Users\\coppe\\AppData\\Local\\Temp\\ipykernel_24044\\2617141462.py:77: FutureWarning: The frame.append method is deprecated and will be removed from pandas in a future version. Use pandas.concat instead.\n",
      "  df = df.append({'Title_all': Title_all, 'Title': Title, 'Season': Season, 'Episode': Episode, 'Image': Image, 'Description': Description, 'Genre': Genre, 'Duration': Duration, 'Date': Date}, ignore_index=True)\n",
      "C:\\Users\\coppe\\AppData\\Local\\Temp\\ipykernel_24044\\2617141462.py:77: FutureWarning: The frame.append method is deprecated and will be removed from pandas in a future version. Use pandas.concat instead.\n",
      "  df = df.append({'Title_all': Title_all, 'Title': Title, 'Season': Season, 'Episode': Episode, 'Image': Image, 'Description': Description, 'Genre': Genre, 'Duration': Duration, 'Date': Date}, ignore_index=True)\n",
      "C:\\Users\\coppe\\AppData\\Local\\Temp\\ipykernel_24044\\2617141462.py:77: FutureWarning: The frame.append method is deprecated and will be removed from pandas in a future version. Use pandas.concat instead.\n",
      "  df = df.append({'Title_all': Title_all, 'Title': Title, 'Season': Season, 'Episode': Episode, 'Image': Image, 'Description': Description, 'Genre': Genre, 'Duration': Duration, 'Date': Date}, ignore_index=True)\n",
      "C:\\Users\\coppe\\AppData\\Local\\Temp\\ipykernel_24044\\2617141462.py:77: FutureWarning: The frame.append method is deprecated and will be removed from pandas in a future version. Use pandas.concat instead.\n",
      "  df = df.append({'Title_all': Title_all, 'Title': Title, 'Season': Season, 'Episode': Episode, 'Image': Image, 'Description': Description, 'Genre': Genre, 'Duration': Duration, 'Date': Date}, ignore_index=True)\n",
      "C:\\Users\\coppe\\AppData\\Local\\Temp\\ipykernel_24044\\2617141462.py:77: FutureWarning: The frame.append method is deprecated and will be removed from pandas in a future version. Use pandas.concat instead.\n",
      "  df = df.append({'Title_all': Title_all, 'Title': Title, 'Season': Season, 'Episode': Episode, 'Image': Image, 'Description': Description, 'Genre': Genre, 'Duration': Duration, 'Date': Date}, ignore_index=True)\n",
      "C:\\Users\\coppe\\AppData\\Local\\Temp\\ipykernel_24044\\2617141462.py:77: FutureWarning: The frame.append method is deprecated and will be removed from pandas in a future version. Use pandas.concat instead.\n",
      "  df = df.append({'Title_all': Title_all, 'Title': Title, 'Season': Season, 'Episode': Episode, 'Image': Image, 'Description': Description, 'Genre': Genre, 'Duration': Duration, 'Date': Date}, ignore_index=True)\n",
      "C:\\Users\\coppe\\AppData\\Local\\Temp\\ipykernel_24044\\2617141462.py:77: FutureWarning: The frame.append method is deprecated and will be removed from pandas in a future version. Use pandas.concat instead.\n",
      "  df = df.append({'Title_all': Title_all, 'Title': Title, 'Season': Season, 'Episode': Episode, 'Image': Image, 'Description': Description, 'Genre': Genre, 'Duration': Duration, 'Date': Date}, ignore_index=True)\n",
      "C:\\Users\\coppe\\AppData\\Local\\Temp\\ipykernel_24044\\2617141462.py:77: FutureWarning: The frame.append method is deprecated and will be removed from pandas in a future version. Use pandas.concat instead.\n",
      "  df = df.append({'Title_all': Title_all, 'Title': Title, 'Season': Season, 'Episode': Episode, 'Image': Image, 'Description': Description, 'Genre': Genre, 'Duration': Duration, 'Date': Date}, ignore_index=True)\n",
      "C:\\Users\\coppe\\AppData\\Local\\Temp\\ipykernel_24044\\2617141462.py:77: FutureWarning: The frame.append method is deprecated and will be removed from pandas in a future version. Use pandas.concat instead.\n",
      "  df = df.append({'Title_all': Title_all, 'Title': Title, 'Season': Season, 'Episode': Episode, 'Image': Image, 'Description': Description, 'Genre': Genre, 'Duration': Duration, 'Date': Date}, ignore_index=True)\n",
      "C:\\Users\\coppe\\AppData\\Local\\Temp\\ipykernel_24044\\2617141462.py:77: FutureWarning: The frame.append method is deprecated and will be removed from pandas in a future version. Use pandas.concat instead.\n",
      "  df = df.append({'Title_all': Title_all, 'Title': Title, 'Season': Season, 'Episode': Episode, 'Image': Image, 'Description': Description, 'Genre': Genre, 'Duration': Duration, 'Date': Date}, ignore_index=True)\n",
      "C:\\Users\\coppe\\AppData\\Local\\Temp\\ipykernel_24044\\2617141462.py:77: FutureWarning: The frame.append method is deprecated and will be removed from pandas in a future version. Use pandas.concat instead.\n",
      "  df = df.append({'Title_all': Title_all, 'Title': Title, 'Season': Season, 'Episode': Episode, 'Image': Image, 'Description': Description, 'Genre': Genre, 'Duration': Duration, 'Date': Date}, ignore_index=True)\n",
      "C:\\Users\\coppe\\AppData\\Local\\Temp\\ipykernel_24044\\2617141462.py:77: FutureWarning: The frame.append method is deprecated and will be removed from pandas in a future version. Use pandas.concat instead.\n",
      "  df = df.append({'Title_all': Title_all, 'Title': Title, 'Season': Season, 'Episode': Episode, 'Image': Image, 'Description': Description, 'Genre': Genre, 'Duration': Duration, 'Date': Date}, ignore_index=True)\n",
      "C:\\Users\\coppe\\AppData\\Local\\Temp\\ipykernel_24044\\2617141462.py:77: FutureWarning: The frame.append method is deprecated and will be removed from pandas in a future version. Use pandas.concat instead.\n",
      "  df = df.append({'Title_all': Title_all, 'Title': Title, 'Season': Season, 'Episode': Episode, 'Image': Image, 'Description': Description, 'Genre': Genre, 'Duration': Duration, 'Date': Date}, ignore_index=True)\n",
      "C:\\Users\\coppe\\AppData\\Local\\Temp\\ipykernel_24044\\2617141462.py:77: FutureWarning: The frame.append method is deprecated and will be removed from pandas in a future version. Use pandas.concat instead.\n",
      "  df = df.append({'Title_all': Title_all, 'Title': Title, 'Season': Season, 'Episode': Episode, 'Image': Image, 'Description': Description, 'Genre': Genre, 'Duration': Duration, 'Date': Date}, ignore_index=True)\n"
     ]
    }
   ],
   "source": [
    "df = pd.DataFrame(columns=['Title_all', 'Title', 'Season', 'Episode', 'Image', 'Description', 'Genre', 'Duration', 'Date'])\n",
    "\n",
    "Genre = 'food'\n",
    "\n",
    "files = glob.glob(f'./data2/BBC/{Genre}/*.html')\n",
    "\n",
    "\n",
    "for file in files:\n",
    "    try:\n",
    "        with open(file) as fp:\n",
    "            soup = BeautifulSoup(fp, 'html.parser')\n",
    "        test_site_name = soup.find('meta', attrs={'property': 'og:site_name'})\n",
    "        test_title = soup.find('meta', attrs={'property': 'og:title'})\n",
    "        test_image = soup.find('meta',  attrs={'property': 'og:image'})\n",
    "        test_description = soup.find('meta',  attrs={'property': 'og:description'})\n",
    "        meta_test = soup.findAll('div', attrs={'id': 'orb-modules'})\n",
    "\n",
    "        if (test_title != None) and (test_image != None) and (test_description != None) and (meta_test != None):\n",
    "        # extract the data from each file\n",
    "        #extract title\n",
    "            Title_all = test_title['content']\n",
    "        #Extract Image\n",
    "            Image = test_image['content']\n",
    "        #Extract Description\n",
    "            Description = test_description['content']\n",
    "\n",
    "            if test_site_name['content'] == 'BBC iPlayer':\n",
    "                for tag in meta_test:\n",
    "                    tdTags = tag.find_all(\"span\", {\"class\": \"episode-metadata__text\"})\n",
    "                    tdTags2 = tag.find_all(\"span\", {\"class\": \"typo typo--bold play-cta__title typo--buzzard\"})\n",
    "                    tdTags3 = tag.find_all(\"span\", {\"class\": \"typo typo--skylark play-cta__subtitle\"})\n",
    "\n",
    "                    List = []\n",
    "                    Titles = []\n",
    "\n",
    "                    for items in tdTags:\n",
    "                        List.append(items.text)\n",
    "                    for i in tdTags2:\n",
    "                        Titles.append(i.text)\n",
    "                    for d in tdTags3:\n",
    "                        Titles.append(d.text)\n",
    "\n",
    "                    Title = Titles[0]\n",
    "                    if tdTags3 ==  []:\n",
    "                        Season = \"\"\n",
    "                    else:\n",
    "                        Season = Titles[1]\n",
    "\n",
    "                    Duration = List[0]\n",
    "                    Date = List[1]\n",
    "                    Episode = \"\"\n",
    "\n",
    "            elif test_site_name['content'] == 'BBC':\n",
    "                for tag in meta_test:\n",
    "                    tdTags = tag.find_all(\"div\", {\"class\": \"map__intro\"})\n",
    "                    tdTags2 = tag.find_all(\"a\", {\"class\": \"context__item\"})\n",
    "                    tdTags3 = tag.find_all(\"h1\", {\"class\": \"no-margin\"})\n",
    "                    List = []\n",
    "                    for items in tdTags:\n",
    "                        List.append(items.text)\n",
    "                    for i in tdTags2:\n",
    "                        List.append(i.text)\n",
    "                    for d in tdTags3:\n",
    "                        List.append(d.text)\n",
    "\n",
    "                Duration = List[0]\n",
    "                Title = List[1]\n",
    "                Season = List[2]\n",
    "                if len(List) == 4:\n",
    "                    Episode = List[3]\n",
    "                else:\n",
    "                    Episode = \"\"\n",
    "                Date = \"\"\n",
    "\n",
    "\n",
    "\n",
    "            df = df.append({'Title_all': Title_all, 'Title': Title, 'Season': Season, 'Episode': Episode, 'Image': Image, 'Description': Description, 'Genre': Genre, 'Duration': Duration, 'Date': Date}, ignore_index=True)\n",
    "        else:\n",
    "            pass\n",
    "    except:\n",
    "        pass"
   ],
   "metadata": {
    "collapsed": false,
    "pycharm": {
     "name": "#%%\n",
     "is_executing": true
    }
   }
  },
  {
   "cell_type": "code",
   "execution_count": 21,
   "outputs": [
    {
     "data": {
      "text/plain": "                                             Title_all  \\\n0              Civilisation - 1. The Skin of Our Teeth   \n1                     Civilisation - 2. The Great Thaw   \n2                Civilisation - 3. Romance and Reality   \n3    Civilisation - 4. Man - The Measure of all Things   \n4                 Civilisation - 5. The Hero as Artist   \n..                                                 ...   \n315  The Boleyns: A Scandalous Family - Series 1: E...   \n316    Rise of the Nazis - Dictators at War: Episode 1   \n317    Rise of the Nazis - Dictators at War: Episode 2   \n318    Rise of the Nazis - Dictators at War: Episode 3   \n319              The Asian Welsh - Series 1: Episode 3   \n\n                                Title                              Season  \\\n0                        Civilisation            1. The Skin of Our Teeth   \n1                        Civilisation                   2. The Great Thaw   \n2                        Civilisation              3. Romance and Reality   \n3                        Civilisation  4. Man - The Measure of all Things   \n4                        Civilisation               5. The Hero as Artist   \n..                                ...                                 ...   \n315  The Boleyns: A Scandalous Family                 Series 1: Episode 3   \n316                 Rise of the Nazis         Dictators at War: Episode 1   \n317                 Rise of the Nazis         Dictators at War: Episode 2   \n318                 Rise of the Nazis         Dictators at War: Episode 3   \n319                   The Asian Welsh                 Series 1: Episode 3   \n\n    Episode                                              Image  \\\n0            https://ichef.bbci.co.uk/images/ic/1200x675/p0...   \n1            https://ichef.bbci.co.uk/images/ic/1200x675/p0...   \n2            https://ichef.bbci.co.uk/images/ic/1200x675/p0...   \n3            https://ichef.bbci.co.uk/images/ic/1200x675/p0...   \n4            https://ichef.bbci.co.uk/images/ic/1200x675/p0...   \n..      ...                                                ...   \n315          https://ichef.bbci.co.uk/images/ic/1200x675/p0...   \n316          https://ichef.bbci.co.uk/images/ic/1200x675/p0...   \n317          https://ichef.bbci.co.uk/images/ic/1200x675/p0...   \n318          https://ichef.bbci.co.uk/images/ic/1200x675/p0...   \n319          https://ichef.bbci.co.uk/images/ic/1200x675/p0...   \n\n                                           Description    Genre Duration  \\\n0    Kenneth Clark's classic 1969 series looks at h...  history  50 mins   \n1    Kenneth Clark looks at the reawakening of Euro...  history  48 mins   \n2    Kenneth Clark travels to France and Italy to c...  history  50 mins   \n3    Kenneth Clark continues his reflections on civ...  history  49 mins   \n4    Kenneth Clark looks at artists Michelangelo, R...  history  49 mins   \n..                                                 ...      ...      ...   \n315  Anne Boleyn becomes queen. Her fate is sealed,...  history  59 mins   \n316  At the peak of his power, Hitler now faces fel...  history  59 mins   \n317  The Nazis have lost in Moscow, and both dictat...  history  59 mins   \n318  The resistance gets a student voice, and an en...  history  59 mins   \n319  Onkar Singh Purewal explores how Indian immigr...  history  28 mins   \n\n                   Date  \n0    8:15pm 23 Feb 1969  \n1     8:15pm 2 Mar 1969  \n2     8:15pm 9 Mar 1969  \n3    8:15pm 16 Mar 1969  \n4    8:15pm 23 Mar 1969  \n..                  ...  \n315         13 Aug 2021  \n316         14 Feb 2022  \n317         14 Feb 2022  \n318         14 Feb 2022  \n319          6 Dec 2021  \n\n[320 rows x 9 columns]",
      "text/html": "<div>\n<style scoped>\n    .dataframe tbody tr th:only-of-type {\n        vertical-align: middle;\n    }\n\n    .dataframe tbody tr th {\n        vertical-align: top;\n    }\n\n    .dataframe thead th {\n        text-align: right;\n    }\n</style>\n<table border=\"1\" class=\"dataframe\">\n  <thead>\n    <tr style=\"text-align: right;\">\n      <th></th>\n      <th>Title_all</th>\n      <th>Title</th>\n      <th>Season</th>\n      <th>Episode</th>\n      <th>Image</th>\n      <th>Description</th>\n      <th>Genre</th>\n      <th>Duration</th>\n      <th>Date</th>\n    </tr>\n  </thead>\n  <tbody>\n    <tr>\n      <th>0</th>\n      <td>Civilisation - 1. The Skin of Our Teeth</td>\n      <td>Civilisation</td>\n      <td>1. The Skin of Our Teeth</td>\n      <td></td>\n      <td>https://ichef.bbci.co.uk/images/ic/1200x675/p0...</td>\n      <td>Kenneth Clark's classic 1969 series looks at h...</td>\n      <td>history</td>\n      <td>50 mins</td>\n      <td>8:15pm 23 Feb 1969</td>\n    </tr>\n    <tr>\n      <th>1</th>\n      <td>Civilisation - 2. The Great Thaw</td>\n      <td>Civilisation</td>\n      <td>2. The Great Thaw</td>\n      <td></td>\n      <td>https://ichef.bbci.co.uk/images/ic/1200x675/p0...</td>\n      <td>Kenneth Clark looks at the reawakening of Euro...</td>\n      <td>history</td>\n      <td>48 mins</td>\n      <td>8:15pm 2 Mar 1969</td>\n    </tr>\n    <tr>\n      <th>2</th>\n      <td>Civilisation - 3. Romance and Reality</td>\n      <td>Civilisation</td>\n      <td>3. Romance and Reality</td>\n      <td></td>\n      <td>https://ichef.bbci.co.uk/images/ic/1200x675/p0...</td>\n      <td>Kenneth Clark travels to France and Italy to c...</td>\n      <td>history</td>\n      <td>50 mins</td>\n      <td>8:15pm 9 Mar 1969</td>\n    </tr>\n    <tr>\n      <th>3</th>\n      <td>Civilisation - 4. Man - The Measure of all Things</td>\n      <td>Civilisation</td>\n      <td>4. Man - The Measure of all Things</td>\n      <td></td>\n      <td>https://ichef.bbci.co.uk/images/ic/1200x675/p0...</td>\n      <td>Kenneth Clark continues his reflections on civ...</td>\n      <td>history</td>\n      <td>49 mins</td>\n      <td>8:15pm 16 Mar 1969</td>\n    </tr>\n    <tr>\n      <th>4</th>\n      <td>Civilisation - 5. The Hero as Artist</td>\n      <td>Civilisation</td>\n      <td>5. The Hero as Artist</td>\n      <td></td>\n      <td>https://ichef.bbci.co.uk/images/ic/1200x675/p0...</td>\n      <td>Kenneth Clark looks at artists Michelangelo, R...</td>\n      <td>history</td>\n      <td>49 mins</td>\n      <td>8:15pm 23 Mar 1969</td>\n    </tr>\n    <tr>\n      <th>...</th>\n      <td>...</td>\n      <td>...</td>\n      <td>...</td>\n      <td>...</td>\n      <td>...</td>\n      <td>...</td>\n      <td>...</td>\n      <td>...</td>\n      <td>...</td>\n    </tr>\n    <tr>\n      <th>315</th>\n      <td>The Boleyns: A Scandalous Family - Series 1: E...</td>\n      <td>The Boleyns: A Scandalous Family</td>\n      <td>Series 1: Episode 3</td>\n      <td></td>\n      <td>https://ichef.bbci.co.uk/images/ic/1200x675/p0...</td>\n      <td>Anne Boleyn becomes queen. Her fate is sealed,...</td>\n      <td>history</td>\n      <td>59 mins</td>\n      <td>13 Aug 2021</td>\n    </tr>\n    <tr>\n      <th>316</th>\n      <td>Rise of the Nazis - Dictators at War: Episode 1</td>\n      <td>Rise of the Nazis</td>\n      <td>Dictators at War: Episode 1</td>\n      <td></td>\n      <td>https://ichef.bbci.co.uk/images/ic/1200x675/p0...</td>\n      <td>At the peak of his power, Hitler now faces fel...</td>\n      <td>history</td>\n      <td>59 mins</td>\n      <td>14 Feb 2022</td>\n    </tr>\n    <tr>\n      <th>317</th>\n      <td>Rise of the Nazis - Dictators at War: Episode 2</td>\n      <td>Rise of the Nazis</td>\n      <td>Dictators at War: Episode 2</td>\n      <td></td>\n      <td>https://ichef.bbci.co.uk/images/ic/1200x675/p0...</td>\n      <td>The Nazis have lost in Moscow, and both dictat...</td>\n      <td>history</td>\n      <td>59 mins</td>\n      <td>14 Feb 2022</td>\n    </tr>\n    <tr>\n      <th>318</th>\n      <td>Rise of the Nazis - Dictators at War: Episode 3</td>\n      <td>Rise of the Nazis</td>\n      <td>Dictators at War: Episode 3</td>\n      <td></td>\n      <td>https://ichef.bbci.co.uk/images/ic/1200x675/p0...</td>\n      <td>The resistance gets a student voice, and an en...</td>\n      <td>history</td>\n      <td>59 mins</td>\n      <td>14 Feb 2022</td>\n    </tr>\n    <tr>\n      <th>319</th>\n      <td>The Asian Welsh - Series 1: Episode 3</td>\n      <td>The Asian Welsh</td>\n      <td>Series 1: Episode 3</td>\n      <td></td>\n      <td>https://ichef.bbci.co.uk/images/ic/1200x675/p0...</td>\n      <td>Onkar Singh Purewal explores how Indian immigr...</td>\n      <td>history</td>\n      <td>28 mins</td>\n      <td>6 Dec 2021</td>\n    </tr>\n  </tbody>\n</table>\n<p>320 rows × 9 columns</p>\n</div>"
     },
     "execution_count": 21,
     "metadata": {},
     "output_type": "execute_result"
    }
   ],
   "source": [
    "df"
   ],
   "metadata": {
    "collapsed": false,
    "pycharm": {
     "name": "#%%\n"
    }
   }
  },
  {
   "cell_type": "code",
   "execution_count": 22,
   "outputs": [],
   "source": [
    "df.to_csv(f'data/datasets/{Genre}.csv', index=False, sep=\";\")"
   ],
   "metadata": {
    "collapsed": false,
    "pycharm": {
     "name": "#%%\n"
    }
   }
  },
  {
   "cell_type": "code",
   "execution_count": null,
   "outputs": [],
   "source": [],
   "metadata": {
    "collapsed": false,
    "pycharm": {
     "name": "#%%\n"
    }
   }
  }
 ],
 "metadata": {
  "kernelspec": {
   "display_name": "Python 3",
   "language": "python",
   "name": "python3"
  },
  "language_info": {
   "codemirror_mode": {
    "name": "ipython",
    "version": 2
   },
   "file_extension": ".py",
   "mimetype": "text/x-python",
   "name": "python",
   "nbconvert_exporter": "python",
   "pygments_lexer": "ipython2",
   "version": "2.7.6"
  }
 },
 "nbformat": 4,
 "nbformat_minor": 0
}