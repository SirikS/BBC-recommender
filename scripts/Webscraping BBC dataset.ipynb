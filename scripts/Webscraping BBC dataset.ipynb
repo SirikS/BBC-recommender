{
 "cells": [
  {
   "cell_type": "code",
   "execution_count": 3,
   "metadata": {
    "pycharm": {
     "name": "#%%\n"
    }
   },
   "outputs": [],
   "source": [
    "import pandas as pd\n",
    "from bs4 import BeautifulSoup\n",
    "import requests\n",
    "import glob\n",
    "from pathlib import Path"
   ]
  },
  {
   "cell_type": "code",
   "execution_count": 1,
   "metadata": {
    "pycharm": {
     "is_executing": true,
     "name": "#%%\n"
    }
   },
   "outputs": [],
   "source": [
    "df = pd.DataFrame(columns=['Title_all', 'Title', 'Season', 'Episode', 'Image', 'Description', 'Genre', 'Duration', 'Date'])\n",
    "\n",
    "Genre = 'food'\n",
    "\n",
    "files = glob.glob(f'./data2/BBC/{Genre}/*.html')\n",
    "\n",
    "\n",
    "for file in files:\n",
    "    try:\n",
    "        with open(file) as fp:\n",
    "            soup = BeautifulSoup(fp, 'html.parser')\n",
    "        test_site_name = soup.find('meta', attrs={'property': 'og:site_name'})\n",
    "        test_title = soup.find('meta', attrs={'property': 'og:title'})\n",
    "        test_image = soup.find('meta',  attrs={'property': 'og:image'})\n",
    "        test_description = soup.find('meta',  attrs={'property': 'og:description'})\n",
    "        meta_test = soup.findAll('div', attrs={'id': 'orb-modules'})\n",
    "\n",
    "        if (test_title != None) and (test_image != None) and (test_description != None) and (meta_test != None):\n",
    "        # extract the data from each file\n",
    "        #extract title\n",
    "            Title_all = test_title['content']\n",
    "        #Extract Image\n",
    "            Image = test_image['content']\n",
    "        #Extract Description\n",
    "            Description = test_description['content']\n",
    "\n",
    "            if test_site_name['content'] == 'BBC iPlayer':\n",
    "                for tag in meta_test:\n",
    "                    tdTags = tag.find_all(\"span\", {\"class\": \"episode-metadata__text\"})\n",
    "                    tdTags2 = tag.find_all(\"span\", {\"class\": \"typo typo--bold play-cta__title typo--buzzard\"})\n",
    "                    tdTags3 = tag.find_all(\"span\", {\"class\": \"typo typo--skylark play-cta__subtitle\"})\n",
    "\n",
    "                    List = []\n",
    "                    Titles = []\n",
    "\n",
    "                    for items in tdTags:\n",
    "                        List.append(items.text)\n",
    "                    for i in tdTags2:\n",
    "                        Titles.append(i.text)\n",
    "                    for d in tdTags3:\n",
    "                        Titles.append(d.text)\n",
    "\n",
    "                    Title = Titles[0]\n",
    "                    if tdTags3 ==  []:\n",
    "                        Season = \"\"\n",
    "                    else:\n",
    "                        Season = Titles[1]\n",
    "\n",
    "                    Duration = List[0]\n",
    "                    Date = List[1]\n",
    "                    Episode = \"\"\n",
    "\n",
    "            elif test_site_name['content'] == 'BBC':\n",
    "                for tag in meta_test:\n",
    "                    tdTags = tag.find_all(\"div\", {\"class\": \"map__intro\"})\n",
    "                    tdTags2 = tag.find_all(\"a\", {\"class\": \"context__item\"})\n",
    "                    tdTags3 = tag.find_all(\"h1\", {\"class\": \"no-margin\"})\n",
    "                    List = []\n",
    "                    for items in tdTags:\n",
    "                        List.append(items.text)\n",
    "                    for i in tdTags2:\n",
    "                        List.append(i.text)\n",
    "                    for d in tdTags3:\n",
    "                        List.append(d.text)\n",
    "\n",
    "                Duration = List[0]\n",
    "                Title = List[1]\n",
    "                Season = List[2]\n",
    "                if len(List) == 4:\n",
    "                    Episode = List[3]\n",
    "                else:\n",
    "                    Episode = \"\"\n",
    "                Date = \"\"\n",
    "\n",
    "\n",
    "\n",
    "            df = df.append({'Title_all': Title_all, 'Title': Title, 'Season': Season, 'Episode': Episode, 'Image': Image, 'Description': Description, 'Genre': Genre, 'Duration': Duration, 'Date': Date}, ignore_index=True)\n",
    "        else:\n",
    "            pass\n",
    "    except:\n",
    "        pass"
   ]
  },
  {
   "cell_type": "code",
   "execution_count": 22,
   "metadata": {
    "pycharm": {
     "name": "#%%\n"
    }
   },
   "outputs": [],
   "source": [
    "df.to_csv(f'../data/websraped_raw.csv', index=False, sep=\";\")"
   ]
  },
  {
   "cell_type": "code",
   "execution_count": null,
   "metadata": {
    "pycharm": {
     "name": "#%%\n"
    }
   },
   "outputs": [],
   "source": []
  }
 ],
 "metadata": {
  "kernelspec": {
   "display_name": "Python 3",
   "language": "python",
   "name": "python3"
  },
  "language_info": {
   "codemirror_mode": {
    "name": "ipython",
    "version": 3
   },
   "file_extension": ".py",
   "mimetype": "text/x-python",
   "name": "python",
   "nbconvert_exporter": "python",
   "pygments_lexer": "ipython3",
   "version": "3.8.8"
  }
 },
 "nbformat": 4,
 "nbformat_minor": 1
}
