{
 "cells": [
  {
   "cell_type": "code",
   "execution_count": 1,
   "metadata": {
    "jupyter": {
     "outputs_hidden": true
    }
   },
   "outputs": [],
   "source": [
    "import pandas as pd\n",
    "from bs4 import BeautifulSoup\n",
    "import requests\n",
    "import glob\n",
    "from pathlib import Path"
   ]
  },
  {
   "cell_type": "code",
   "execution_count": 3,
   "metadata": {
    "jupyter": {
     "outputs_hidden": false
    },
    "pycharm": {
     "name": "#%%\n"
    }
   },
   "outputs": [
    {
     "name": "stdout",
     "output_type": "stream",
     "text": [
      "['29 mins', '25 Feb 2004', 'Available for over a year']\n"
     ]
    }
   ],
   "source": [
    "# test code for individual programs.\n",
    "file =  '../../BBC/arts/iplayer-episode-b0074q0f-roy-lichtenstein-pop-idol.html'\n",
    "test_soup = BeautifulSoup(open(file, encoding = \"utf8\"), 'html.parser')\n",
    "test_title = test_soup.find('meta', attrs={'property': 'og:title'})\n",
    "length_test = test_soup.find('episode-metadata__text')\n",
    "test = test_soup.findAll('div', attrs={'id': 'orb-modules'})\n",
    "for tag in test:\n",
    "    tdTags = tag.find_all(\"span\", {\"class\": \"episode-metadata__text\"})\n",
    "    list = []\n",
    "    for asdf in tdTags:\n",
    "        list.append(asdf.text)\n",
    "\n",
    "print(list)\n",
    "#print(length_test)\n",
    "#print(test_title['content'])\n"
   ]
  },
  {
   "cell_type": "code",
   "execution_count": null,
   "metadata": {
    "jupyter": {
     "outputs_hidden": false
    },
    "pycharm": {
     "name": "#%%\n"
    }
   },
   "outputs": [],
   "source": [
    "df = pd.DataFrame(columns=['Title', 'Image', 'Description', 'Genre', 'Duration', 'Date'])\n",
    "\n",
    "entries = Path('../../BBC/')\n",
    "for entry in entries.iterdir():\n",
    "    files = glob.glob(f'../../BBC/{entry.name}/*.html')\n",
    "    Genre = entry.name\n",
    "\n",
    "    for file in files:\n",
    "        soup = BeautifulSoup(open(file, encoding = \"utf8\"), 'html.parser')\n",
    "        test_title = soup.find('meta', attrs={'property': 'og:title'})\n",
    "        test_image = soup.find('meta',  attrs={'property': 'og:image'})\n",
    "        test_description = soup.find('meta',  attrs={'property': 'og:description'})\n",
    "        meta_test = soup.findAll('div', attrs={'id': 'orb-modules'})\n",
    "\n",
    "        if (test_title != None) and (test_image != None) and (test_description != None) and (meta_test != None):\n",
    "        # extract the data from each file\n",
    "        #extract title\n",
    "            Title = test_title['content']\n",
    "        #Extract Image\n",
    "            Image = test_image['content']\n",
    "        #Extract Description\n",
    "            Description = test_description['content']\n",
    "        #Extract info\n",
    "            for tag in meta_test:\n",
    "                tdTags = tag.find_all(\"span\", {\"class\": \"episode-metadata__text\"})\n",
    "                List = []\n",
    "                for items in tdTags:\n",
    "                    List.append(items.text)\n",
    "\n",
    "            df = df.append({'Title': Title, 'Image': Image, 'Description': Description, 'Genre': Genre, 'Duration': List[0], 'Date': List[1]}, ignore_index=True)\n",
    "        else:\n",
    "            pass\n"
   ]
  },
  {
   "cell_type": "code",
   "execution_count": 5,
   "metadata": {
    "jupyter": {
     "outputs_hidden": false
    },
    "pycharm": {
     "name": "#%%\n"
    }
   },
   "outputs": [
    {
     "data": {
      "text/html": [
       "<div>\n",
       "<style scoped>\n",
       "    .dataframe tbody tr th:only-of-type {\n",
       "        vertical-align: middle;\n",
       "    }\n",
       "\n",
       "    .dataframe tbody tr th {\n",
       "        vertical-align: top;\n",
       "    }\n",
       "\n",
       "    .dataframe thead th {\n",
       "        text-align: right;\n",
       "    }\n",
       "</style>\n",
       "<table border=\"1\" class=\"dataframe\">\n",
       "  <thead>\n",
       "    <tr style=\"text-align: right;\">\n",
       "      <th></th>\n",
       "      <th>Title</th>\n",
       "      <th>Image</th>\n",
       "      <th>Description</th>\n",
       "      <th>Genre</th>\n",
       "      <th>Duration</th>\n",
       "      <th>Date</th>\n",
       "    </tr>\n",
       "  </thead>\n",
       "  <tbody>\n",
       "  </tbody>\n",
       "</table>\n",
       "</div>"
      ],
      "text/plain": [
       "Empty DataFrame\n",
       "Columns: [Title, Image, Description, Genre, Duration, Date]\n",
       "Index: []"
      ]
     },
     "execution_count": 5,
     "metadata": {},
     "output_type": "execute_result"
    }
   ],
   "source": [
    "df"
   ]
  },
  {
   "cell_type": "code",
   "execution_count": 104,
   "metadata": {
    "jupyter": {
     "outputs_hidden": false
    },
    "pycharm": {
     "name": "#%%\n"
    }
   },
   "outputs": [
    {
     "data": {
      "text/plain": [
       "3803"
      ]
     },
     "execution_count": 104,
     "metadata": {},
     "output_type": "execute_result"
    }
   ],
   "source": [
    "len(df)"
   ]
  },
  {
   "cell_type": "code",
   "execution_count": 105,
   "metadata": {
    "jupyter": {
     "outputs_hidden": false
    },
    "pycharm": {
     "name": "#%%\n"
    }
   },
   "outputs": [
    {
     "data": {
      "text/plain": [
       "Title          0\n",
       "Image          0\n",
       "Description    0\n",
       "Genre          0\n",
       "Duration       0\n",
       "Date           0\n",
       "dtype: int64"
      ]
     },
     "execution_count": 105,
     "metadata": {},
     "output_type": "execute_result"
    }
   ],
   "source": [
    "df.isna().sum()"
   ]
  },
  {
   "cell_type": "code",
   "execution_count": 106,
   "metadata": {
    "jupyter": {
     "outputs_hidden": false
    },
    "pycharm": {
     "name": "#%%\n"
    }
   },
   "outputs": [],
   "source": [
    "df.to_csv('../data/BBC_Dataset.csv', index=False, sep=\";\")"
   ]
  },
  {
   "cell_type": "code",
   "execution_count": null,
   "metadata": {
    "jupyter": {
     "outputs_hidden": false
    },
    "pycharm": {
     "name": "#%%\n"
    }
   },
   "outputs": [],
   "source": []
  }
 ],
 "metadata": {
  "kernelspec": {
   "display_name": "Python 3",
   "language": "python",
   "name": "python3"
  },
  "language_info": {
   "codemirror_mode": {
    "name": "ipython",
    "version": 3
   },
   "file_extension": ".py",
   "mimetype": "text/x-python",
   "name": "python",
   "nbconvert_exporter": "python",
   "pygments_lexer": "ipython3",
   "version": "3.8.8"
  }
 },
 "nbformat": 4,
 "nbformat_minor": 4
}
