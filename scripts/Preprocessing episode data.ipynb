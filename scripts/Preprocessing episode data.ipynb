{
 "cells": [
  {
   "cell_type": "code",
   "execution_count": 1,
   "id": "283367aa",
   "metadata": {},
   "outputs": [],
   "source": [
    "import pandas as pd"
   ]
  },
  {
   "cell_type": "code",
   "execution_count": 99,
   "id": "7c6e8593",
   "metadata": {},
   "outputs": [],
   "source": [
    "data = pd.read_csv('../data/final_df.csv', sep=';')\n",
    "\n",
    "# reformat date correctly\n",
    "data['date'] = pd.to_datetime(data.Date, errors='coerce').dt.date\n",
    "\n",
    "# substract season and episode number\n",
    "data['Season_no'] = data['Season'].str.extract('(\\d+)')\n",
    "data['Episode_no'] = data['Episode'].str.extract('(\\d+)')\n",
    "\n",
    "# select top genre per season because there are double entries\n",
    "show_genre = data.groupby(['Title', 'Genre']).count().Title_all.reset_index()\n",
    "show_genre = show_genre.sort_values('Title_all').groupby('Title').first().reset_index(\n",
    "                                    )[['Title', 'Genre']].rename({'Genre':'genre'}, axis=1)\n",
    "data = data.merge(show_genre, on='Title')\n",
    "\n",
    "# drop duplicate entries\n",
    "data = data.drop_duplicates(subset=['Title', 'Season+Episode'], keep='first')\n",
    "\n",
    "# assign episode id and title id\n",
    "data['episode_ID'] = data.index\n",
    "season_id = pd.Series(data['Title'].unique()).rename('Title').reset_index().rename({'index':'show_ID'}, axis=1)\n",
    "data = data.merge(season_id, on='Title')\n",
    "\n",
    "# select columns and rename\n",
    "data = data[['show_ID', 'Title', 'episode_ID', 'Season_no', 'Episode_no', 'Episode', \n",
    "             'genre', 'DurationMin', 'date', 'Year', 'Description', 'Image']]\n",
    "data = data.rename({'show_ID':'Show_ID','episode_ID':'Episode_ID','season_no':'season','Episode_no':'Episode', \n",
    "             'Episode':'Episode_name', 'DurationMin':'Duration', 'date':'Date', 'genre':'Genre'}, axis=1)\n",
    "\n",
    "# store processed data\n",
    "data.to_csv('../data/BBC_episodes.csv', index=False)"
   ]
  },
  {
   "cell_type": "code",
   "execution_count": null,
   "id": "37d8e9ae",
   "metadata": {},
   "outputs": [],
   "source": []
  }
 ],
 "metadata": {
  "kernelspec": {
   "display_name": "Python 3",
   "language": "python",
   "name": "python3"
  },
  "language_info": {
   "codemirror_mode": {
    "name": "ipython",
    "version": 3
   },
   "file_extension": ".py",
   "mimetype": "text/x-python",
   "name": "python",
   "nbconvert_exporter": "python",
   "pygments_lexer": "ipython3",
   "version": "3.8.8"
  }
 },
 "nbformat": 4,
 "nbformat_minor": 5
}
